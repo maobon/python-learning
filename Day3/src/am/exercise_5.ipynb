{
 "cells": [
  {
   "cell_type": "code",
   "id": "initial_id",
   "metadata": {
    "collapsed": true,
    "ExecuteTime": {
     "end_time": "2025-01-15T12:27:16.331328Z",
     "start_time": "2025-01-15T12:27:16.316769Z"
    }
   },
   "source": [
    "import numpy as np\n",
    "from pandas import DataFrame\n",
    "\n",
    "\n",
    "def cal_sum_avg(data_frame, name) -> (float, float):\n",
    "    \"\"\"\n",
    "    calculate student total score and average score\n",
    "    \"\"\"\n",
    "    data = data_frame[name].tolist()\n",
    "    return np.sum(data), round(np.mean(data), 2)\n",
    "\n",
    "\n",
    "df = DataFrame({\n",
    "    \"张三\": [85, 90, 92],\n",
    "    \"李四\": [78, 88, 85],\n",
    "    \"王五\": [92, 95, 89],\n",
    "    \"赵六\": [88, 82, 78],\n",
    "}, index=[\"语文\", \"数学\", \"外语\"])\n",
    "\n",
    "print('(1)计算每个学生的平均成绩和总成绩\\n')\n",
    "print(f\"张三 总成绩:{cal_sum_avg(df, \"张三\")[0]} 平均成绩:{cal_sum_avg(df, \"张三\")[1]}\")\n",
    "print(f\"李四 总成绩:{cal_sum_avg(df, \"李四\")[0]} 平均成绩:{cal_sum_avg(df, \"李四\")[1]}\")\n",
    "print(f\"王五 总成绩:{cal_sum_avg(df, \"王五\")[0]} 平均成绩:{cal_sum_avg(df, \"王五\")[1]}\")\n",
    "print(f\"赵六 总成绩:{cal_sum_avg(df, \"赵六\")[0]} 平均成绩:{cal_sum_avg(df, \"赵六\")[1]}\")\n",
    "\n",
    "print('\\n(2)每个科目的平均成绩')\n",
    "\n",
    "arr = [np.mean(df.T['语文'].to_numpy()), np.mean(df.T['数学'].to_numpy()), np.mean(df.T['外语'].to_numpy())]\n",
    "dataframe = DataFrame(arr, index=['语文', '数学', '外语'], columns=['分数'])\n",
    "\n",
    "dataframe.to_csv('score.txt')\n",
    "print(dataframe, '\\n')\n",
    "\n",
    "df_sample = dataframe.copy(deep=True)\n",
    "best_course = df_sample.sort_values('分数', ascending=False).iloc[0]\n",
    "\n",
    "print(f\"平均成绩最高的科目:{best_course.name} 分数:{best_course['分数']}\")\n"
   ],
   "outputs": [
    {
     "name": "stdout",
     "output_type": "stream",
     "text": [
      "(1)计算每个学生的平均成绩和总成绩\n",
      "\n",
      "张三 总成绩:267 平均成绩:89.0\n",
      "李四 总成绩:251 平均成绩:83.67\n",
      "王五 总成绩:276 平均成绩:92.0\n",
      "赵六 总成绩:248 平均成绩:82.67\n",
      "\n",
      "(2)每个科目的平均成绩\n",
      "       分数\n",
      "语文  85.75\n",
      "数学  88.75\n",
      "外语  86.00 \n",
      "\n",
      "平均成绩最高的科目:数学 分数:88.75\n"
     ]
    }
   ],
   "execution_count": 57
  }
 ],
 "metadata": {
  "kernelspec": {
   "display_name": "Python 3",
   "language": "python",
   "name": "python3"
  },
  "language_info": {
   "codemirror_mode": {
    "name": "ipython",
    "version": 2
   },
   "file_extension": ".py",
   "mimetype": "text/x-python",
   "name": "python",
   "nbconvert_exporter": "python",
   "pygments_lexer": "ipython2",
   "version": "2.7.6"
  }
 },
 "nbformat": 4,
 "nbformat_minor": 5
}
