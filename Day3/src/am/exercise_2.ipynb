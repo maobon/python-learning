{
 "cells": [
  {
   "metadata": {},
   "cell_type": "markdown",
   "source": "## NumPy 一维数组",
   "id": "167a41752ea24368"
  },
  {
   "cell_type": "code",
   "id": "initial_id",
   "metadata": {
    "collapsed": true
   },
   "source": [
    "import numpy as np\n",
    "\n",
    "arr1 = np.array([0, 1, 2, 3, 4])\n",
    "arr2 = np.arange(5)\n",
    "arr2"
   ],
   "outputs": [],
   "execution_count": null
  },
  {
   "metadata": {},
   "cell_type": "markdown",
   "source": [
    "## NumPy 二维数组\n",
    "\n",
    "### 二维数据的行列长度需要相等"
   ],
   "id": "828fe0ffedbd7800"
  },
  {
   "metadata": {},
   "cell_type": "code",
   "source": [
    "import numpy as np\n",
    "\n",
    "# error\n",
    "# arr = np.array([np.arange(2),np.arange(3)])\n",
    "\n",
    "arr = np.array([np.arange(2), np.arange(2)])\n",
    "# arr.shape\n",
    "arr"
   ],
   "id": "d941776f0e52b444",
   "outputs": [],
   "execution_count": null
  },
  {
   "metadata": {},
   "cell_type": "markdown",
   "source": "## NumPy 一维数组切片和索引",
   "id": "28381a832af9db77"
  },
  {
   "metadata": {},
   "cell_type": "code",
   "source": [
    "import numpy as np\n",
    "\n",
    "a = np.arange(10) ** 3\n",
    "# array([  0,   1,   8,  27,  64, 125, 216, 343, 512, 729])\n",
    "\n",
    "# a[2]\n",
    "# a[2:]\n",
    "# a[2:4] # 包前不包后\n",
    "\n",
    "# a[2:4] = 1000\n",
    "# a[:-4] = -100\n",
    "# a[-4:] = 80\n",
    "# a[:6:2] = 33\n",
    "# a[::-1] # no effect need assign to object\n",
    "\n",
    "array = np.array([[1, 2], [4, 5]])\n",
    "x = array[0, 1]  # np.int64(2)\n",
    "c = array[0, 0]\n",
    "b = array[1, 1]\n",
    "\n",
    "#arr2 = [1,2,3,4,5]\n",
    "arr2 = np.arange(5)\n",
    "arr2 = arr2[::-1]  # reverse\n",
    "arr2"
   ],
   "id": "d0c4ce644331dfa9",
   "outputs": [],
   "execution_count": null
  },
  {
   "metadata": {},
   "cell_type": "markdown",
   "source": "### 改变数组形状",
   "id": "3a1044a469b370d2"
  },
  {
   "metadata": {},
   "cell_type": "code",
   "source": [
    "arr = np.arange(24).reshape(2, 3, 4)\n",
    "#print(arr.ravel())\n",
    "#print(arr.flatten())\n",
    "\n",
    "#arr.resize(3,8)\n",
    "arr.resize((3, 8))\n"
   ],
   "id": "aa134228279c209a",
   "outputs": [],
   "execution_count": null
  },
  {
   "metadata": {},
   "cell_type": "markdown",
   "source": "## 堆叠数组",
   "id": "8a331e064f5b9c49"
  },
  {
   "metadata": {},
   "cell_type": "code",
   "source": [
    "aa = np.arange(9).reshape(3, 3)\n",
    "bb = aa * 3\n",
    "#print(aa)\n",
    "#print(bb)\n",
    "\n",
    "cc = np.hstack((aa, bb))\n",
    "print(cc)\n",
    "\n",
    "xx = np.concatenate((aa, bb))\n",
    "print(xx)\n",
    "\n",
    "dd = np.concatenate((aa, bb), axis=1)\n",
    "print(dd)\n",
    "\n"
   ],
   "id": "d1ef75036b3ff874",
   "outputs": [],
   "execution_count": null
  },
  {
   "metadata": {},
   "cell_type": "markdown",
   "source": "## 拆分数组",
   "id": "982662b7097571c6"
  },
  {
   "metadata": {},
   "cell_type": "code",
   "source": [
    "dd = np.arange(9).reshape(3, 3)\n",
    "print(dd)\n",
    "\n",
    "# np.hsplit(dd, 3)\n",
    "# np.split(dd, 3, axis=1)\n",
    "\n",
    "# np.vsplit(dd, 3)\n",
    "\n",
    "np.split(dd, 3, axis=0)\n"
   ],
   "id": "ffd88ef9d9b7f36f",
   "outputs": [],
   "execution_count": null
  },
  {
   "metadata": {},
   "cell_type": "markdown",
   "source": "## 数组转置",
   "id": "b593fdd03a2a8f55"
  },
  {
   "metadata": {},
   "cell_type": "code",
   "source": [
    "uu = np.arange(24).reshape(2, 12)\n",
    "# print(uu)\n",
    "\n",
    "zz = uu.reshape(6, 4)\n",
    "print(zz)\n",
    "\n",
    "o = zz.T\n",
    "print(o)\n",
    "\n",
    "qq = zz.reshape(4, 6)\n",
    "print(qq)"
   ],
   "id": "95eeb8d3d0204f12",
   "outputs": [],
   "execution_count": null
  },
  {
   "metadata": {},
   "cell_type": "markdown",
   "source": "## NumPy 高级索引",
   "id": "4b3fcc7f9e355ea1"
  },
  {
   "metadata": {},
   "cell_type": "code",
   "source": [
    "tt = np.arange(24).reshape(4, 6)\n",
    "print(tt)\n",
    "\n",
    "#ppp = tt[:3, 3:]\n",
    "#print(ppp)\n",
    "\n",
    "#e = tt[:3,[1,2,3,4]]\n",
    "#print(e)\n",
    "\n",
    "aa = tt[..., 2:]\n",
    "# aa = tt[, 2:] #索引全选 不能空着\n",
    "print(aa)"
   ],
   "id": "f4dc6ee1e39b0b11",
   "outputs": [],
   "execution_count": null
  },
  {
   "metadata": {},
   "cell_type": "markdown",
   "source": "### 布尔索引",
   "id": "9e780deeef3b4b69"
  },
  {
   "metadata": {},
   "cell_type": "code",
   "source": [
    "nn = np.arange(12).reshape(4, 3)\n",
    "print(nn)\n",
    "\n",
    "print(nn[nn > 5])"
   ],
   "id": "5fbc54702439e1a6",
   "outputs": [],
   "execution_count": null
  },
  {
   "metadata": {},
   "cell_type": "markdown",
   "source": "### Raccoon 小浣熊图片",
   "id": "220af6c11161c643"
  },
  {
   "metadata": {},
   "cell_type": "code",
   "source": [
    "import numpy as np\n",
    "import scipy.misc\n",
    "import matplotlib.pyplot as plt\n",
    "\n",
    "# 小浣熊过时了\n",
    "face = np.array(scipy.misc.face())\n",
    "print(face.shap)\n",
    "plt.imshow(face)\n",
    "plt.show()\n"
   ],
   "id": "67087c36bb62a4a4",
   "outputs": [],
   "execution_count": null
  },
  {
   "metadata": {},
   "cell_type": "markdown",
   "source": "## NumPy 统计函数",
   "id": "adbde4a3ff16f170"
  },
  {
   "metadata": {
    "ExecuteTime": {
     "end_time": "2025-01-15T07:34:05.164923Z",
     "start_time": "2025-01-15T07:34:05.154186Z"
    }
   },
   "cell_type": "code",
   "source": [
    "import numpy as np\n",
    "\n",
    "array = np.array([[3, 7, 5], [8, 4, 3], [2, 4, 9]])\n",
    "print(array)\n",
    "\n",
    "print(np.amin(array, axis=1))\n",
    "print(np.amin(array, axis=0))\n",
    "\n",
    "print(np.amax(array, axis=1))\n",
    "print(np.amax(array, axis=0))\n",
    "\n",
    "print(np.amax(array))"
   ],
   "id": "baca815ee587f576",
   "outputs": [
    {
     "name": "stdout",
     "output_type": "stream",
     "text": [
      "[[3 7 5]\n",
      " [8 4 3]\n",
      " [2 4 9]]\n",
      "[3 3 2]\n",
      "[2 4 3]\n",
      "[7 8 9]\n",
      "[8 7 9]\n",
      "9\n"
     ]
    }
   ],
   "execution_count": 6
  },
  {
   "metadata": {},
   "cell_type": "markdown",
   "source": "#### sort() argsort() 返回数组值从小到大的索引值",
   "id": "d14e94d59f133f8d"
  },
  {
   "metadata": {
    "ExecuteTime": {
     "end_time": "2025-01-15T07:40:44.351421Z",
     "start_time": "2025-01-15T07:40:44.346419Z"
    }
   },
   "cell_type": "code",
   "source": [
    "import numpy as np\n",
    "\n",
    "arr = np.array([[3, 7, 5], [8, 4, 3]])\n",
    "#arr = np.sort(arr)\n",
    "#print(arr)\n",
    "\n",
    "y = np.argsort(arr)\n",
    "print(y)\n"
   ],
   "id": "fbd6e8b8d241b9a2",
   "outputs": [
    {
     "name": "stdout",
     "output_type": "stream",
     "text": [
      "[[0 2 1]\n",
      " [2 1 0]]\n"
     ]
    }
   ],
   "execution_count": 10
  },
  {
   "metadata": {},
   "cell_type": "markdown",
   "source": "### NumPy 中的统计函数 where()",
   "id": "a0a4f5ade10f2e71"
  },
  {
   "metadata": {
    "ExecuteTime": {
     "end_time": "2025-01-15T08:05:17.611180Z",
     "start_time": "2025-01-15T08:05:17.602976Z"
    }
   },
   "cell_type": "code",
   "source": [
    "import numpy as np\n",
    "\n",
    "xxx = np.arange(9.).reshape(3, 3)\n",
    "print(xxx)\n",
    "\n",
    "y = np.where(xxx > 3)\n",
    "print(y)\n",
    "\n",
    "print(xxx[y])\n"
   ],
   "id": "e88d1ae7261135d8",
   "outputs": [
    {
     "name": "stdout",
     "output_type": "stream",
     "text": [
      "[[0. 1. 2.]\n",
      " [3. 4. 5.]\n",
      " [6. 7. 8.]]\n",
      "(array([1, 1, 2, 2, 2]), array([1, 2, 0, 1, 2]))\n",
      "[4. 5. 6. 7. 8.]\n"
     ]
    }
   ],
   "execution_count": 15
  },
  {
   "metadata": {},
   "cell_type": "markdown",
   "source": "### NumPy 中的统计函数 extract()",
   "id": "8b990672c25c3d86"
  },
  {
   "metadata": {
    "ExecuteTime": {
     "end_time": "2025-01-15T08:17:01.084971Z",
     "start_time": "2025-01-15T08:17:01.073314Z"
    }
   },
   "cell_type": "code",
   "source": [
    "import numpy as np\n",
    "\n",
    "w = np.arange(9.).reshape(3, 3)\n",
    "print(w)\n",
    "\n",
    "condition_arr = np.mod(w, 2) == 0\n",
    "print(condition_arr)\n",
    "\n",
    "rrr = np.extract(condition_arr, w)\n",
    "print(rrr)\n",
    "\n",
    "condition_arr = (w >= 4)\n",
    "print(condition_arr)\n",
    "\n",
    "ff = np.extract(condition_arr, w)\n",
    "print(ff)"
   ],
   "id": "eaac631c7524e757",
   "outputs": [
    {
     "name": "stdout",
     "output_type": "stream",
     "text": [
      "[[0. 1. 2.]\n",
      " [3. 4. 5.]\n",
      " [6. 7. 8.]]\n",
      "[[ True False  True]\n",
      " [False  True False]\n",
      " [ True False  True]]\n",
      "[0. 2. 4. 6. 8.]\n",
      "[[False False False]\n",
      " [False  True  True]\n",
      " [ True  True  True]]\n",
      "[4. 5. 6. 7. 8.]\n"
     ]
    }
   ],
   "execution_count": 23
  },
  {
   "metadata": {},
   "cell_type": "markdown",
   "source": "#### NumPy 算数平均值",
   "id": "173f756458585e23"
  },
  {
   "metadata": {
    "ExecuteTime": {
     "end_time": "2025-01-15T08:18:48.615005Z",
     "start_time": "2025-01-15T08:18:48.609438Z"
    }
   },
   "cell_type": "code",
   "source": [
    "import numpy as np\n",
    "\n",
    "ddd = np.array([[1, 2, 3], [3, 4, 5], [4, 5, 6]])\n",
    "print(ddd)\n"
   ],
   "id": "5cf17c28b76739cb",
   "outputs": [
    {
     "name": "stdout",
     "output_type": "stream",
     "text": [
      "[[1 2 3]\n",
      " [3 4 5]\n",
      " [4 5 6]]\n"
     ]
    }
   ],
   "execution_count": 24
  },
  {
   "metadata": {},
   "cell_type": "markdown",
   "source": "#### 求算数平均值",
   "id": "2e023a86d4abc798"
  },
  {
   "metadata": {
    "ExecuteTime": {
     "end_time": "2025-01-15T08:28:10.573520Z",
     "start_time": "2025-01-15T08:28:10.554063Z"
    }
   },
   "cell_type": "code",
   "source": [
    "import numpy as np\n",
    "\n",
    "oo = np.array([[1, 2, 3], [3, 4, 5], [4, 5, 6]])\n",
    "print(oo)\n",
    "\n",
    "print(np.mean(oo))\n",
    "\n",
    "# axis=0 竖直方向\n",
    "print(np.mean(oo, axis=0))\n",
    "\n",
    "# axis=1 水平方向\n",
    "print(np.mean(oo, axis=1))\n",
    "\n",
    "# ----- average -----\n",
    "\n",
    "uuu = oo.flatten()\n",
    "print(np.average(uuu))\n"
   ],
   "id": "b0694699b069797b",
   "outputs": [
    {
     "name": "stdout",
     "output_type": "stream",
     "text": [
      "[[1 2 3]\n",
      " [3 4 5]\n",
      " [4 5 6]]\n",
      "3.6666666666666665\n",
      "[2.66666667 3.66666667 4.66666667]\n",
      "[2. 4. 5.]\n",
      "3.6666666666666665\n"
     ]
    }
   ],
   "execution_count": 32
  },
  {
   "metadata": {},
   "cell_type": "markdown",
   "source": "",
   "id": "7e54421750e55363"
  }
 ],
 "metadata": {
  "kernelspec": {
   "display_name": "Python 3",
   "language": "python",
   "name": "python3"
  },
  "language_info": {
   "codemirror_mode": {
    "name": "ipython",
    "version": 2
   },
   "file_extension": ".py",
   "mimetype": "text/x-python",
   "name": "python",
   "nbconvert_exporter": "python",
   "pygments_lexer": "ipython2",
   "version": "2.7.6"
  }
 },
 "nbformat": 4,
 "nbformat_minor": 5
}
