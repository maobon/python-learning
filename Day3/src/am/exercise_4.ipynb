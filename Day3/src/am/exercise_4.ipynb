{
 "cells": [
  {
   "cell_type": "code",
   "id": "initial_id",
   "metadata": {
    "collapsed": true,
    "ExecuteTime": {
     "end_time": "2025-01-15T10:57:11.452057Z",
     "start_time": "2025-01-15T10:57:11.444558Z"
    }
   },
   "source": [
    "import numpy as np\n",
    "\n",
    "random_array = np.random.random((6, 6))\n",
    "\n",
    "# 第三列平均值\n",
    "third_col_avg = np.mean(random_array[...,[2]])\n",
    "rows_std = np.std(random_array, axis=1)\n",
    "\n",
    "modified_array = random_array.copy()\n",
    "for i in range(modified_array.shape[0]):\n",
    "    for j in range(modified_array.shape[1]):\n",
    "        if modified_array[i, j] > third_col_avg:\n",
    "            modified_array[i, j] = rows_std[i]\n",
    "\n",
    "random_array"
   ],
   "outputs": [
    {
     "data": {
      "text/plain": [
       "array([[1.18688839e-01, 8.66199290e-01, 5.97374692e-01, 8.19653160e-01,\n",
       "        9.51077269e-01, 9.25893198e-01],\n",
       "       [9.51930842e-01, 8.62185781e-01, 4.82534276e-01, 6.75060309e-01,\n",
       "        5.50070493e-01, 2.22212727e-01],\n",
       "       [8.90678671e-01, 6.07955343e-04, 1.49455855e-01, 1.85603332e-01,\n",
       "        3.21521369e-01, 9.82125529e-01],\n",
       "       [6.42236512e-01, 7.91189703e-01, 3.63382771e-01, 4.76571744e-01,\n",
       "        3.10237387e-01, 5.41005075e-01],\n",
       "       [1.39566052e-01, 9.23925961e-01, 4.95555783e-01, 9.84187184e-02,\n",
       "        7.52408094e-01, 3.32835771e-01],\n",
       "       [6.37497134e-01, 7.80986691e-01, 3.51968283e-01, 1.07751340e-01,\n",
       "        9.18028380e-01, 5.05033380e-01]])"
      ]
     },
     "execution_count": 8,
     "metadata": {},
     "output_type": "execute_result"
    }
   ],
   "execution_count": 8
  }
 ],
 "metadata": {
  "kernelspec": {
   "display_name": "Python 3",
   "language": "python",
   "name": "python3"
  },
  "language_info": {
   "codemirror_mode": {
    "name": "ipython",
    "version": 2
   },
   "file_extension": ".py",
   "mimetype": "text/x-python",
   "name": "python",
   "nbconvert_exporter": "python",
   "pygments_lexer": "ipython2",
   "version": "2.7.6"
  }
 },
 "nbformat": 4,
 "nbformat_minor": 5
}
