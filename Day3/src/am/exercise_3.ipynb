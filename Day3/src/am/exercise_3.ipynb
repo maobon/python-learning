{
 "cells": [
  {
   "cell_type": "code",
   "id": "initial_id",
   "metadata": {
    "collapsed": true,
    "ExecuteTime": {
     "end_time": "2025-01-15T10:43:49.264487Z",
     "start_time": "2025-01-15T10:43:49.170356Z"
    }
   },
   "source": [
    "import numpy as np\n",
    "\n",
    "array = np.arange(1, 13).reshape(3, 4)\n",
    "mean_val = np.mean(array)\n",
    "std_val = np.std(array)\n",
    "\n",
    "print(array)\n",
    "print(\"平均值:\", mean_val)\n",
    "print(\"标准差:\", std_val)\n",
    "\n",
    "array[array < mean_val] = -1\n",
    "print(array)\n"
   ],
   "outputs": [
    {
     "name": "stdout",
     "output_type": "stream",
     "text": [
      "[[ 1  2  3  4]\n",
      " [ 5  6  7  8]\n",
      " [ 9 10 11 12]]\n",
      "平均值: 6.5\n",
      "标准差: 3.452052529534663\n",
      "[[-1 -1 -1 -1]\n",
      " [-1 -1  7  8]\n",
      " [ 9 10 11 12]]\n"
     ]
    }
   ],
   "execution_count": 1
  }
 ],
 "metadata": {
  "kernelspec": {
   "display_name": "Python 3",
   "language": "python",
   "name": "python3"
  },
  "language_info": {
   "codemirror_mode": {
    "name": "ipython",
    "version": 2
   },
   "file_extension": ".py",
   "mimetype": "text/x-python",
   "name": "python",
   "nbconvert_exporter": "python",
   "pygments_lexer": "ipython2",
   "version": "2.7.6"
  }
 },
 "nbformat": 4,
 "nbformat_minor": 5
}
